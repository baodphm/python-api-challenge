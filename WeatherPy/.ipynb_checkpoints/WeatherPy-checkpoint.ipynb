{
 "cells": [
  {
   "cell_type": "markdown",
   "metadata": {},
   "source": [
    "# WeatherPy\n",
    "----\n",
    "\n",
    "#### Note\n",
    "* Instructions have been included for each segment. You do not have to follow them exactly, but they are included to help you think through the steps."
   ]
  },
  {
   "cell_type": "code",
   "execution_count": 1,
   "metadata": {
    "scrolled": true
   },
   "outputs": [],
   "source": [
    "# Dependencies and Setup\n",
    "import matplotlib.pyplot as plt\n",
    "import pandas as pd\n",
    "import numpy as np\n",
    "import requests\n",
    "import time\n",
    "from scipy.stats import linregress\n",
    "import json\n",
    "\n",
    "# Import API key\n",
    "from api_keys import weather_api_key\n",
    "\n",
    "# Incorporated citipy to determine city based on latitude and longitude\n",
    "from citipy import citipy\n",
    "\n",
    "# Output File (CSV)\n",
    "output_data_file = \"output_data/cities.csv\"\n",
    "\n",
    "# Range of latitudes and longitudes\n",
    "lat_range = (-90, 90)\n",
    "lng_range = (-180, 180)"
   ]
  },
  {
   "cell_type": "markdown",
   "metadata": {},
   "source": [
    "## Generate Cities List"
   ]
  },
  {
   "cell_type": "code",
   "execution_count": 2,
   "metadata": {},
   "outputs": [
    {
     "data": {
      "text/plain": [
       "610"
      ]
     },
     "execution_count": 2,
     "metadata": {},
     "output_type": "execute_result"
    }
   ],
   "source": [
    "# List for holding lat_lngs and cities\n",
    "lat_lngs = []\n",
    "cities = []\n",
    "\n",
    "# Create a set of random lat and lng combinations\n",
    "lats = np.random.uniform(lat_range[0], lat_range[1], size=1500)\n",
    "lngs = np.random.uniform(lng_range[0], lng_range[1], size=1500)\n",
    "lat_lngs = zip(lats, lngs)\n",
    "\n",
    "# Identify nearest city for each lat, lng combination\n",
    "for lat_lng in lat_lngs:\n",
    "    city = citipy.nearest_city(lat_lng[0], lat_lng[1]).city_name\n",
    "    \n",
    "    # If the city is unique, then add it to a our cities list\n",
    "    if city not in cities:\n",
    "        cities.append(city)\n",
    "\n",
    "# Print the city count to confirm sufficient count\n",
    "len(cities)\n"
   ]
  },
  {
   "cell_type": "markdown",
   "metadata": {},
   "source": [
    "### Perform API Calls\n",
    "* Perform a weather check on each city using a series of successive API calls.\n",
    "* Include a print log of each city as it'sbeing processed (with the city number and city name).\n"
   ]
  },
  {
   "cell_type": "code",
   "execution_count": 3,
   "metadata": {
    "scrolled": true
   },
   "outputs": [
    {
     "name": "stdout",
     "output_type": "stream",
     "text": [
      "torbay\n",
      "ambodifototra not found\n",
      "carnarvon\n",
      "ushuaia\n",
      "daman\n",
      "tignere\n",
      "leningradskiy\n",
      "geraldton\n",
      "hobart\n",
      "zonalnoye not found\n",
      "voh\n",
      "tidore not found\n",
      "vaini\n",
      "saint george\n",
      "lasa\n",
      "taolanaro not found\n",
      "ilulissat\n",
      "chuy\n",
      "kisangani\n",
      "taganak\n",
      "honiara\n",
      "bredasdorp\n",
      "jamestown\n",
      "kapaa\n",
      "mogadishu\n",
      "saldanha\n",
      "kaitangata\n",
      "taoudenni\n",
      "saskylakh\n",
      "rikitea\n",
      "port elizabeth\n",
      "puerto ayora\n",
      "mataura\n",
      "raga\n",
      "chagda not found\n",
      "busselton\n",
      "saleaula not found\n",
      "magdagachi\n",
      "arti\n",
      "lagoa\n",
      "matinhos\n",
      "ljungby\n",
      "kampong chhnang\n",
      "tomatlan\n",
      "yellowknife\n",
      "albany\n",
      "tete\n",
      "verkhoyansk\n",
      "severo-kurilsk\n",
      "georgetown\n",
      "caravelas\n",
      "mahebourg\n",
      "punta arenas\n",
      "tautira\n",
      "harper\n",
      "la ronge\n",
      "cayenne\n",
      "husavik\n",
      "san patricio\n",
      "iki-burul\n",
      "kangaatsiaq\n",
      "tuatapere\n",
      "port lincoln\n",
      "krasnoselkup\n",
      "atuona\n",
      "lata\n",
      "cedar city\n",
      "barrow\n",
      "souillac\n",
      "laurel\n",
      "west des moines\n",
      "bowen\n",
      "flin flon\n",
      "dauphin\n",
      "longyearbyen\n",
      "esperance\n",
      "illoqqortoormiut not found\n",
      "marfino\n",
      "cockburn town\n",
      "kapoeta\n",
      "punta umbria\n",
      "port alfred\n",
      "hilo\n",
      "vilhena\n",
      "port macquarie\n",
      "alofi\n",
      "yumen\n",
      "ostrovnoy\n",
      "east london\n",
      "taltal\n",
      "bengkulu\n",
      "rincon\n",
      "tiksi\n",
      "mys shmidta not found\n",
      "shelburne\n",
      "fuyang\n",
      "hasaki\n",
      "nikolskoye\n",
      "petawawa\n",
      "woodland\n",
      "jabiru not found\n",
      "sault sainte marie\n",
      "bluff\n",
      "hermanus\n",
      "mandera\n",
      "castro\n",
      "dingle\n",
      "coos bay\n",
      "kodiak\n",
      "arani\n",
      "gallup\n",
      "qaqortoq\n",
      "portland\n",
      "agadir\n",
      "kazalinsk not found\n",
      "plymouth\n",
      "victoria\n",
      "new norfolk\n",
      "hambantota\n",
      "mar del plata\n",
      "kamenskoye not found\n",
      "balabac\n",
      "barentsburg not found\n",
      "thompson\n",
      "dikson\n",
      "aklavik\n",
      "garissa\n",
      "tuktoyaktuk\n",
      "sitka\n",
      "soller\n",
      "marcona not found\n",
      "nguiu not found\n",
      "deputatskiy\n",
      "kropotkin\n",
      "gorno-chuyskiy not found\n",
      "vaitupu not found\n",
      "hutchinson\n",
      "bizhbulyak\n",
      "constitucion\n",
      "itarema\n",
      "abonnema\n",
      "norman wells\n",
      "sao filipe\n",
      "bambous virieux\n",
      "kloulklubed\n",
      "miranda\n",
      "ambilobe\n",
      "bereda\n",
      "santarem\n",
      "maceio\n",
      "dwarka\n",
      "arraial do cabo\n",
      "bafoulabe\n",
      "menongue\n",
      "lima\n",
      "lufilufi\n",
      "kataysk\n",
      "lavrentiya\n",
      "surgut\n",
      "khamaria\n",
      "pontianak\n",
      "houma\n",
      "aran\n",
      "kavieng\n",
      "jales\n",
      "gamba\n",
      "khatanga\n",
      "narsaq\n",
      "attawapiskat not found\n",
      "chokurdakh\n",
      "winsford\n",
      "fortuna\n",
      "haines junction\n",
      "kalaleh\n",
      "wasilla\n",
      "anadyr\n",
      "namestovo\n",
      "cape town\n",
      "aktau\n",
      "saint-philippe\n",
      "polyarnyy\n",
      "yarmouth\n",
      "los llanos de aridane\n",
      "airai\n",
      "conceicao do araguaia\n",
      "atar\n",
      "guerrero negro\n",
      "puerto escondido\n",
      "orel-izumrud\n",
      "moron\n",
      "codrington\n",
      "kingman\n",
      "issoire\n",
      "kijang\n",
      "katsuura\n",
      "meyungs not found\n",
      "waingapu\n",
      "fevralsk not found\n",
      "rocha\n",
      "ruian not found\n",
      "calama\n",
      "burica not found\n",
      "semey\n",
      "hajnowka\n",
      "hay river\n",
      "nederland\n",
      "mugur-aksy\n",
      "helong\n",
      "upernavik\n",
      "nizhneyansk not found\n",
      "saint anthony\n",
      "warqla not found\n",
      "bafra\n",
      "provideniya\n",
      "nouadhibou\n",
      "ust-kuyga\n",
      "aksu\n",
      "alice springs\n",
      "fare\n",
      "pevek\n",
      "lebu\n",
      "parrita\n",
      "vila franca do campo\n",
      "meulaboh\n",
      "qaanaaq\n",
      "kattivakkam\n",
      "komsomolskiy\n",
      "amderma not found\n",
      "mandalgovi\n",
      "lagunas\n",
      "ushtobe\n",
      "margate\n",
      "sovetskiy\n",
      "shitanjing\n",
      "lompoc\n",
      "bentiu\n",
      "portel\n",
      "katobu\n",
      "pitimbu\n",
      "sisimiut\n",
      "martapura\n",
      "hamilton\n",
      "atambua\n",
      "oyotun\n",
      "sistranda\n",
      "zambezi\n",
      "waterford\n",
      "belmonte\n",
      "ponta do sol\n",
      "kottapalli\n",
      "inhambane\n",
      "penaflor\n",
      "nsoko\n",
      "maldonado\n",
      "palabuhanratu not found\n",
      "vila velha\n",
      "iqaluit\n",
      "sola\n",
      "tromso\n",
      "christchurch\n",
      "port augusta\n",
      "tasiilaq\n",
      "elizabeth city\n",
      "jiddah not found\n",
      "okhotsk\n",
      "yulara\n",
      "stephenville\n",
      "srednekolymsk\n",
      "flinders\n",
      "altay\n",
      "aleksandrovskoye\n",
      "bargal not found\n",
      "sorland\n",
      "butaritari\n",
      "ust-nera\n",
      "zanesville\n",
      "saint-pierre\n",
      "arkhangelsk\n",
      "laguna\n",
      "russell\n",
      "sidi qasim not found\n",
      "jinka\n",
      "zelenogorskiy\n",
      "great falls\n",
      "shonguy\n",
      "cidreira\n",
      "san ignacio\n",
      "wanning\n",
      "pangody\n",
      "cairns\n",
      "bethel\n",
      "maun\n",
      "birin\n",
      "faya\n",
      "heyang\n",
      "hithadhoo\n",
      "samusu not found\n",
      "kirakira\n",
      "cimitarra\n",
      "dukat\n",
      "shellbrook\n",
      "camopi\n",
      "ongandjera\n",
      "dourbali\n",
      "dzaoudzi\n",
      "martinho campos\n",
      "grindavik\n",
      "bolungarvik not found\n",
      "abatskoye\n",
      "korla\n",
      "ogulin\n",
      "aswan\n",
      "tual\n",
      "san policarpo\n",
      "soe\n",
      "vila\n",
      "shimoda\n",
      "kavaratti\n",
      "sao miguel\n",
      "gushikawa\n",
      "ahipara\n",
      "kilrush\n",
      "rundu\n",
      "totness\n",
      "jibuti\n",
      "richards bay\n",
      "mayor pablo lagerenza\n",
      "salalah\n",
      "charlestown\n",
      "zhigansk\n",
      "isangel\n",
      "zhezkazgan\n",
      "avarua\n",
      "soyo\n",
      "lubao\n",
      "nanortalik\n",
      "rapid city\n",
      "bhilwara\n",
      "ketchikan\n",
      "port blair\n",
      "nhulunbuy\n",
      "namibe\n",
      "klaksvik\n",
      "hobyo\n",
      "tahoua\n",
      "tonantins\n",
      "kjopsvik\n",
      "hailun\n",
      "kruisfontein\n",
      "marolambo\n",
      "ngukurr not found\n",
      "avera\n",
      "mach\n",
      "luanda\n",
      "grand river south east not found\n",
      "nyurba\n",
      "fomboni\n",
      "allende\n",
      "yarada\n",
      "sibolga\n",
      "denpasar\n",
      "auki\n",
      "sergeyevka\n",
      "mehamn\n",
      "mildura\n",
      "chepareria\n",
      "berlevag\n",
      "belushya guba not found\n",
      "obidos\n",
      "chapais\n",
      "karratha\n",
      "port hardy\n",
      "rio gallegos\n",
      "kupang\n",
      "nazas\n",
      "bara\n",
      "we not found\n",
      "jaisalmer\n",
      "grand-lahou\n",
      "tres picos\n",
      "vanderhoof\n",
      "poplar bluff\n",
      "sao raimundo nonato\n",
      "tabiauea not found\n",
      "fengzhen\n",
      "gat\n",
      "tabas\n",
      "derzhavinsk\n",
      "tsihombe not found\n",
      "faizabad\n",
      "simbahan\n",
      "santa ines\n",
      "khonuu not found\n",
      "mullaitivu not found\n",
      "vardo\n",
      "pangani\n",
      "noumea\n",
      "kanniyakumari\n",
      "omsukchan\n",
      "bay roberts\n",
      "labuhan\n",
      "banda aceh\n",
      "clyde river\n",
      "visnes\n",
      "sinkat not found\n",
      "pangnirtung\n",
      "humaita\n",
      "kahului\n",
      "moose factory\n",
      "ribeira grande\n",
      "zhenlai\n",
      "tura\n",
      "nelson bay\n",
      "tumannyy not found\n",
      "sioux lookout\n",
      "jinxi\n",
      "olafsvik\n",
      "luderitz\n",
      "vostok\n",
      "orlik\n",
      "denizli\n",
      "makakilo city\n",
      "galeana\n",
      "grand gaube\n",
      "athabasca\n",
      "alto araguaia\n",
      "sinnamary\n",
      "hofn\n",
      "mayumba\n",
      "ewa beach\n",
      "varhaug\n",
      "trincomalee\n",
      "porto torres\n",
      "mezen\n",
      "bridlington\n",
      "birjand\n",
      "adeje\n",
      "asau\n",
      "unye not found\n",
      "wahran not found\n",
      "davila\n",
      "sur\n",
      "victor harbor\n",
      "dicabisagan\n",
      "altamira\n",
      "shingu\n",
      "yar-sale\n",
      "sao joao do paraiso\n",
      "neropolis\n",
      "palmer\n",
      "lensk\n",
      "salobrena\n",
      "salekhard\n",
      "santander\n",
      "marawi\n",
      "bonoua\n",
      "cotonou\n",
      "bagdarin\n",
      "chilca\n",
      "san joaquin\n",
      "bloomfield\n",
      "zhitikara not found\n",
      "sibenik\n",
      "rawson\n",
      "san jeronimo\n",
      "innisfail\n",
      "talnakh\n",
      "danville\n",
      "ancud\n",
      "iralaya\n",
      "iquique\n",
      "toliary not found\n",
      "santa isabel do rio negro\n",
      "teknaf\n",
      "kandalaksha\n",
      "haicheng\n",
      "neiafu\n",
      "kailua\n",
      "sao jose do calcado\n",
      "merauke\n",
      "senneterre\n",
      "ugoofaaru\n",
      "temeni\n",
      "deloraine\n",
      "rozivka\n",
      "artyk not found\n",
      "opuwo\n",
      "jadu\n",
      "duiwelskloof\n",
      "long xuyen\n",
      "jucuaran\n",
      "makung not found\n",
      "pangkalanbuun\n",
      "mount gambier\n",
      "banjar\n",
      "kano\n",
      "areka\n",
      "kasama\n",
      "agucadoura\n",
      "ginda\n",
      "nome\n",
      "trzcianka\n",
      "faanui\n",
      "lorengau\n",
      "kousseri\n",
      "igrim\n",
      "camacha\n",
      "pisco\n",
      "sao borja\n",
      "marang\n",
      "springbok\n",
      "camana\n",
      "ust-tarka\n",
      "yeppoon\n",
      "mitsamiouli\n",
      "arrifes\n",
      "miravci\n",
      "tsumeb\n",
      "asayita not found\n",
      "torres\n",
      "alappuzha\n",
      "umm lajj\n",
      "coquimbo\n",
      "ostuacan\n",
      "pauini\n",
      "chernyshevskiy\n",
      "vondrozo\n",
      "kalmunai\n",
      "khorixas\n",
      "san andres\n",
      "nantucket\n",
      "uvat\n",
      "waipawa\n",
      "kommunisticheskiy\n",
      "ozgon not found\n",
      "maarianhamina\n",
      "conde\n",
      "parambu\n",
      "cabedelo\n",
      "mwingi\n",
      "oranjemund\n",
      "eureka\n",
      "jiayuguan\n",
      "turukhansk\n",
      "akyab\n",
      "roches noires not found\n",
      "gangapur\n",
      "buariki not found\n",
      "touros\n",
      "kutum\n",
      "pinotepa nacional\n",
      "cap malheureux\n",
      "dzhusaly not found\n",
      "westport\n",
      "mandurah\n",
      "vestmannaeyjar\n",
      "price\n",
      "sakhon nakhon\n",
      "aranos\n",
      "port keats\n",
      "cherskiy\n",
      "apt\n",
      "pital\n",
      "mahajanga\n",
      "khilok\n",
      "lujan\n",
      "itirapina\n",
      "skjervoy\n",
      "zyryanka\n",
      "moorhead\n",
      "evensk\n",
      "camocim\n",
      "warora\n",
      "xining\n",
      "benguela\n",
      "jaciara\n",
      "awbari\n",
      "rabat\n",
      "coihaique\n",
      "havre\n",
      "beringovskiy\n",
      "sharon\n",
      "stokmarknes\n",
      "westerland\n",
      "mezhdurechenskiy\n",
      "arlit\n",
      "pringsewu\n",
      "yunjinghong not found\n",
      "yanan not found\n",
      "bonavista\n",
      "lardos\n",
      "atasu\n",
      "miri\n",
      "chunoyar\n",
      "les escoumins\n",
      "brownsville\n",
      "henties bay\n",
      "barpeta\n",
      "san buenaventura\n",
      "macduff\n",
      "ahuimanu\n",
      "kenai\n",
      "sechura\n",
      "poya\n",
      "port hedland\n",
      "mutsamudu not found\n",
      "cornwall\n",
      "cabo san lucas\n",
      "san quintin\n",
      "batagay\n"
     ]
    }
   ],
   "source": [
    "url = \"http://api.openweathermap.org/data/2.5/weather?\"\n",
    "query_url = url + \"appid=\" + weather_api_key + \"&q=\"\n",
    "\n",
    "name = []\n",
    "lat = []\n",
    "lon = []\n",
    "temp = []\n",
    "humid = []\n",
    "cloud = []\n",
    "wind = []\n",
    "\n",
    "\n",
    "# Build query URL\n",
    "for city in cities:\n",
    "    try:\n",
    "        response = requests.get(query_url + city).json()\n",
    "        name.append(response[\"name\"])\n",
    "        lat.append(response['coord']['lat'])\n",
    "        lon.append(response['coord']['lon'])\n",
    "        temp.append(response['main']['temp'])\n",
    "        humid.append(response['main']['humidity'])\n",
    "        cloud.append(response['clouds']['all'])\n",
    "        wind.append(response['wind']['speed'])\n",
    "        #print (json.dumps(response, indent = 4))\n",
    "        print(city)\n",
    "    except:\n",
    "        print(f\"{city} not found\")"
   ]
  },
  {
   "cell_type": "markdown",
   "metadata": {},
   "source": [
    "### Convert Raw Data to DataFrame\n",
    "* Export the city data into a .csv.\n",
    "* Display the DataFrame"
   ]
  },
  {
   "cell_type": "code",
   "execution_count": 4,
   "metadata": {
    "scrolled": true
   },
   "outputs": [
    {
     "data": {
      "text/html": [
       "<div>\n",
       "<style scoped>\n",
       "    .dataframe tbody tr th:only-of-type {\n",
       "        vertical-align: middle;\n",
       "    }\n",
       "\n",
       "    .dataframe tbody tr th {\n",
       "        vertical-align: top;\n",
       "    }\n",
       "\n",
       "    .dataframe thead th {\n",
       "        text-align: right;\n",
       "    }\n",
       "</style>\n",
       "<table border=\"1\" class=\"dataframe\">\n",
       "  <thead>\n",
       "    <tr style=\"text-align: right;\">\n",
       "      <th></th>\n",
       "      <th>City</th>\n",
       "      <th>Latitude</th>\n",
       "      <th>Temperature</th>\n",
       "      <th>Humidity</th>\n",
       "      <th>Cloudiness</th>\n",
       "      <th>Wind Speed (mph)</th>\n",
       "    </tr>\n",
       "  </thead>\n",
       "  <tbody>\n",
       "    <tr>\n",
       "      <th>0</th>\n",
       "      <td>Torbay</td>\n",
       "      <td>47.6666</td>\n",
       "      <td>19.670</td>\n",
       "      <td>73</td>\n",
       "      <td>90</td>\n",
       "      <td>11.32</td>\n",
       "    </tr>\n",
       "    <tr>\n",
       "      <th>1</th>\n",
       "      <td>Carnarvon</td>\n",
       "      <td>-24.8667</td>\n",
       "      <td>80.600</td>\n",
       "      <td>65</td>\n",
       "      <td>0</td>\n",
       "      <td>9.26</td>\n",
       "    </tr>\n",
       "    <tr>\n",
       "      <th>2</th>\n",
       "      <td>Ushuaia</td>\n",
       "      <td>-54.8000</td>\n",
       "      <td>64.400</td>\n",
       "      <td>48</td>\n",
       "      <td>40</td>\n",
       "      <td>6.69</td>\n",
       "    </tr>\n",
       "    <tr>\n",
       "      <th>3</th>\n",
       "      <td>Daman</td>\n",
       "      <td>20.4167</td>\n",
       "      <td>79.970</td>\n",
       "      <td>28</td>\n",
       "      <td>100</td>\n",
       "      <td>2.41</td>\n",
       "    </tr>\n",
       "    <tr>\n",
       "      <th>4</th>\n",
       "      <td>Tignère</td>\n",
       "      <td>7.3667</td>\n",
       "      <td>60.008</td>\n",
       "      <td>28</td>\n",
       "      <td>75</td>\n",
       "      <td>0.62</td>\n",
       "    </tr>\n",
       "    <tr>\n",
       "      <th>...</th>\n",
       "      <td>...</td>\n",
       "      <td>...</td>\n",
       "      <td>...</td>\n",
       "      <td>...</td>\n",
       "      <td>...</td>\n",
       "      <td>...</td>\n",
       "    </tr>\n",
       "    <tr>\n",
       "      <th>551</th>\n",
       "      <td>Port Hedland</td>\n",
       "      <td>-20.3167</td>\n",
       "      <td>89.600</td>\n",
       "      <td>66</td>\n",
       "      <td>1</td>\n",
       "      <td>7.72</td>\n",
       "    </tr>\n",
       "    <tr>\n",
       "      <th>552</th>\n",
       "      <td>Cornwall</td>\n",
       "      <td>45.0181</td>\n",
       "      <td>4.316</td>\n",
       "      <td>78</td>\n",
       "      <td>75</td>\n",
       "      <td>1.21</td>\n",
       "    </tr>\n",
       "    <tr>\n",
       "      <th>553</th>\n",
       "      <td>Cabo San Lucas</td>\n",
       "      <td>22.8909</td>\n",
       "      <td>63.428</td>\n",
       "      <td>77</td>\n",
       "      <td>1</td>\n",
       "      <td>1.54</td>\n",
       "    </tr>\n",
       "    <tr>\n",
       "      <th>554</th>\n",
       "      <td>San Quintín</td>\n",
       "      <td>30.4833</td>\n",
       "      <td>55.778</td>\n",
       "      <td>82</td>\n",
       "      <td>1</td>\n",
       "      <td>5.02</td>\n",
       "    </tr>\n",
       "    <tr>\n",
       "      <th>555</th>\n",
       "      <td>Batagay</td>\n",
       "      <td>67.6333</td>\n",
       "      <td>-11.560</td>\n",
       "      <td>86</td>\n",
       "      <td>74</td>\n",
       "      <td>1.22</td>\n",
       "    </tr>\n",
       "  </tbody>\n",
       "</table>\n",
       "<p>556 rows × 6 columns</p>\n",
       "</div>"
      ],
      "text/plain": [
       "               City  Latitude  Temperature  Humidity  Cloudiness  \\\n",
       "0            Torbay   47.6666       19.670        73          90   \n",
       "1         Carnarvon  -24.8667       80.600        65           0   \n",
       "2           Ushuaia  -54.8000       64.400        48          40   \n",
       "3             Daman   20.4167       79.970        28         100   \n",
       "4           Tignère    7.3667       60.008        28          75   \n",
       "..              ...       ...          ...       ...         ...   \n",
       "551    Port Hedland  -20.3167       89.600        66           1   \n",
       "552        Cornwall   45.0181        4.316        78          75   \n",
       "553  Cabo San Lucas   22.8909       63.428        77           1   \n",
       "554     San Quintín   30.4833       55.778        82           1   \n",
       "555         Batagay   67.6333      -11.560        86          74   \n",
       "\n",
       "     Wind Speed (mph)  \n",
       "0               11.32  \n",
       "1                9.26  \n",
       "2                6.69  \n",
       "3                2.41  \n",
       "4                0.62  \n",
       "..                ...  \n",
       "551              7.72  \n",
       "552              1.21  \n",
       "553              1.54  \n",
       "554              5.02  \n",
       "555              1.22  \n",
       "\n",
       "[556 rows x 6 columns]"
      ]
     },
     "execution_count": 4,
     "metadata": {},
     "output_type": "execute_result"
    }
   ],
   "source": [
    "kel = np.array(temp)\n",
    "fTemp = (kel * 1.8 -459.67)\n",
    "\n",
    "weather_dict ={\n",
    "        \"City\": name,\n",
    "        \"Latitude\": lat,\n",
    "        \"Temperature\": fTemp,\n",
    "        \"Humidity\": humid,\n",
    "        \"Cloudiness\": cloud,\n",
    "        \"Wind Speed (mph)\": wind}\n",
    "\n",
    "weather_data_df = pd.DataFrame(weather_dict)\n",
    "weather_data_df\n"
   ]
  },
  {
   "cell_type": "code",
   "execution_count": 5,
   "metadata": {},
   "outputs": [],
   "source": [
    "vacation_dict ={\n",
    "        \"City\": name,\n",
    "        \"Latitude\": lat,\n",
    "        \"Longitude\": lon,\n",
    "        \"Temperature\": fTemp,\n",
    "        \"Humidity\": humid,\n",
    "        \"Cloudiness\": cloud,\n",
    "        \"Wind Speed (mph)\": wind}\n",
    "\n",
    "weather_data_df = pd.DataFrame(weather_dict)\n",
    "weather_data_df\n",
    "vacation_data_df = pd.DataFrame(vacation_dict)\n",
    "vacation_data_df\n",
    "\n",
    "city_export_csv = weather_data_df.to_csv (r'C:\\Users\\goooo\\Git\\python-api-challenge\\weatherdata.csv', index = None, header=True)\n",
    "vacation_export_csv = vacation_data_df.to_csv (r'C:\\Users\\goooo\\Git\\python-api-challenge\\vacationdata.csv', index = None, header=True)"
   ]
  },
  {
   "cell_type": "markdown",
   "metadata": {},
   "source": [
    "## Inspect the data and remove the cities where the humidity > 100%.\n",
    "----\n",
    "Skip this step if there are no cities that have humidity > 100%. "
   ]
  },
  {
   "cell_type": "code",
   "execution_count": null,
   "metadata": {},
   "outputs": [],
   "source": []
  },
  {
   "cell_type": "code",
   "execution_count": null,
   "metadata": {},
   "outputs": [],
   "source": [
    "#  Get the indices of cities that have humidity over 100%.\n"
   ]
  },
  {
   "cell_type": "code",
   "execution_count": null,
   "metadata": {},
   "outputs": [],
   "source": [
    "# Make a new DataFrame equal to the city data to drop all humidity outliers by index.\n",
    "# Passing \"inplace=False\" will make a copy of the city_data DataFrame, which we call \"clean_city_data\".\n"
   ]
  },
  {
   "cell_type": "code",
   "execution_count": null,
   "metadata": {},
   "outputs": [],
   "source": [
    "\n"
   ]
  },
  {
   "cell_type": "markdown",
   "metadata": {},
   "source": [
    "## Plotting the Data\n",
    "* Use proper labeling of the plots using plot titles (including date of analysis) and axes labels.\n",
    "* Save the plotted figures as .pngs."
   ]
  },
  {
   "cell_type": "markdown",
   "metadata": {},
   "source": [
    "## Latitude vs. Temperature Plot"
   ]
  },
  {
   "cell_type": "code",
   "execution_count": 6,
   "metadata": {
    "scrolled": true
   },
   "outputs": [
    {
     "data": {
      "image/png": "[encoded data removed]",
      "text/plain": [
       "<Figure size 432x288 with 1 Axes>"
      ]
     },
     "metadata": {
      "needs_background": "light"
     },
     "output_type": "display_data"
    },
    {
     "name": "stdout",
     "output_type": "stream",
     "text": [
      "Nobody likes converting Kelvin to Farenheit. This code is analyzing some made  up reality where temperatures do not exceed 100F at different city latitudes.\n"
     ]
    },
    {
     "data": {
      "text/plain": [
       "<Figure size 432x288 with 0 Axes>"
      ]
     },
     "metadata": {},
     "output_type": "display_data"
    }
   ],
   "source": [
    "x_lat = weather_data_df['Latitude']\n",
    "y_temp = weather_data_df['Temperature']\n",
    "plt.scatter(x_lat,y_temp)\n",
    "plt.title('Latitude vs Temperature Plot')\n",
    "plt.xlabel('Latitude')\n",
    "plt.ylabel('Temperature (F)')\n",
    "plt.show()\n",
    "print ('Nobody likes converting Kelvin to Farenheit. This code is analyzing some made  up reality where temperatures do not exceed 100F at different city latitudes.')\n",
    "plt.savefig('latTemp.png')\n"
   ]
  },
  {
   "cell_type": "markdown",
   "metadata": {},
   "source": [
    "## Latitude vs. Humidity Plot"
   ]
  },
  {
   "cell_type": "code",
   "execution_count": 7,
   "metadata": {},
   "outputs": [
    {
     "data": {
      "image/png": "[encoded data removed]",
      "text/plain": [
       "<Figure size 432x288 with 1 Axes>"
      ]
     },
     "metadata": {
      "needs_background": "light"
     },
     "output_type": "display_data"
    },
    {
     "name": "stdout",
     "output_type": "stream",
     "text": [
      "The code is looking at Latitude at random cities and Humidity. Surprise!  You  can feel like you are swimming through the air no matter the latitude.\n"
     ]
    },
    {
     "data": {
      "text/plain": [
       "<Figure size 432x288 with 0 Axes>"
      ]
     },
     "metadata": {},
     "output_type": "display_data"
    }
   ],
   "source": [
    "x_lat = weather_data_df['Latitude']\n",
    "y_hum = weather_data_df['Humidity']\n",
    "plt.scatter(x_lat,y_hum)\n",
    "plt.title('Latitude vs Humidity Plot')\n",
    "plt.xlabel('Latitude')\n",
    "plt.ylabel('Humidity (%)')\n",
    "plt.show()\n",
    "\n",
    "print('The code is looking at Latitude at random cities and Humidity. Surprise!  You  can feel like you are swimming through the air no matter the latitude.')\n",
    "plt.savefig('latHum.png')"
   ]
  },
  {
   "cell_type": "markdown",
   "metadata": {},
   "source": [
    "## Latitude vs. Cloudiness Plot"
   ]
  },
  {
   "cell_type": "code",
   "execution_count": 8,
   "metadata": {},
   "outputs": [
    {
     "data": {
      "image/png": "[encoded data removed]",
      "text/plain": [
       "<Figure size 432x288 with 1 Axes>"
      ]
     },
     "metadata": {
      "needs_background": "light"
     },
     "output_type": "display_data"
    },
    {
     "name": "stdout",
     "output_type": "stream",
     "text": [
      "Shockingly, when looking at latitude and cloudiness, we find that clouds are    indeed everywhere.\n"
     ]
    },
    {
     "data": {
      "text/plain": [
       "<Figure size 432x288 with 0 Axes>"
      ]
     },
     "metadata": {},
     "output_type": "display_data"
    }
   ],
   "source": [
    "x_lat = weather_data_df['Latitude']\n",
    "y_cloud = weather_data_df['Cloudiness']\n",
    "plt.scatter(x_lat,y_cloud)\n",
    "plt.title('Latitude vs Cloudiness Plot')\n",
    "plt.xlabel('Latitude')\n",
    "plt.ylabel('Cloudiness (%)')\n",
    "plt.show()\n",
    "\n",
    "print('Shockingly, when looking at latitude and cloudiness, we find that clouds are    indeed everywhere.')\n",
    "plt.savefig('latCloud.png')"
   ]
  },
  {
   "cell_type": "markdown",
   "metadata": {},
   "source": [
    "## Latitude vs. Wind Speed Plot"
   ]
  },
  {
   "cell_type": "code",
   "execution_count": 9,
   "metadata": {},
   "outputs": [
    {
     "data": {
      "image/png": "[encoded data removed]",
      "text/plain": [
       "<Figure size 432x288 with 1 Axes>"
      ]
     },
     "metadata": {
      "needs_background": "light"
     },
     "output_type": "display_data"
    },
    {
     "name": "stdout",
     "output_type": "stream",
     "text": [
      "In terms of latitude compared with wind speed, the latitude does not matter too much and that generally the wind speed is lower than 6 mph.\n"
     ]
    },
    {
     "data": {
      "text/plain": [
       "<Figure size 432x288 with 0 Axes>"
      ]
     },
     "metadata": {},
     "output_type": "display_data"
    }
   ],
   "source": [
    "x_lat = weather_data_df['Latitude']\n",
    "y_wind = weather_data_df['Wind Speed (mph)']\n",
    "plt.scatter(x_lat,y_wind)\n",
    "plt.title('Latitude vs Wind Speed Plot')\n",
    "plt.xlabel('Latitude')\n",
    "plt.ylabel('Wind Speed (mph)')\n",
    "plt.show()\n",
    "\n",
    "print('In terms of latitude compared with wind speed, the latitude does not matter too much and that generally the wind speed is lower than 6 mph.')\n",
    "plt.savefig('latWind.png')"
   ]
  },
  {
   "cell_type": "markdown",
   "metadata": {},
   "source": [
    "## Linear Regression"
   ]
  },
  {
   "cell_type": "code",
   "execution_count": 10,
   "metadata": {},
   "outputs": [],
   "source": [
    "northern_df = weather_data_df.loc[(weather_data_df['Latitude'] >= 0)]\n",
    "southern_df = weather_data_df.loc[(weather_data_df['Latitude'] < 0)]\n",
    "    "
   ]
  },
  {
   "cell_type": "markdown",
   "metadata": {},
   "source": [
    "####  Northern Hemisphere - Max Temp vs. Latitude Linear Regression"
   ]
  },
  {
   "cell_type": "code",
   "execution_count": 11,
   "metadata": {},
   "outputs": [
    {
     "data": {
      "image/png": "[encoded data removed]",
      "text/plain": [
       "<Figure size 432x288 with 1 Axes>"
      ]
     },
     "metadata": {
      "needs_background": "light"
     },
     "output_type": "display_data"
    },
    {
     "name": "stdout",
     "output_type": "stream",
     "text": [
      "The r-squared is: 0.7701567421902609\n",
      "There is a negative correlation between Northern Hemisphere Latitudes and      Temperature.\n"
     ]
    },
    {
     "data": {
      "text/plain": [
       "<Figure size 432x288 with 0 Axes>"
      ]
     },
     "metadata": {},
     "output_type": "display_data"
    }
   ],
   "source": [
    "x_lat = northern_df['Latitude']\n",
    "y_temp = northern_df['Temperature']\n",
    "plt.scatter(x_lat,y_temp)\n",
    "(slope, intercept, rvalue, pvalue, stderr) = linregress(x_lat, y_temp)\n",
    "regress_values = x_lat * slope + intercept\n",
    "line_eq = \"y = \" + str(round(slope,2)) + \"x + \" + str(round(intercept,2))\n",
    "plt.plot(x_lat,regress_values,\"r-\")\n",
    "plt.annotate(line_eq,(6,10),fontsize=15,color=\"red\")\n",
    "plt.title('Northern Hemisphere Latitude vs Temperature Plot')\n",
    "plt.xlabel('Latitude')\n",
    "plt.ylabel('Temperature (F)')\n",
    "plt.show()\n",
    "print(f\"The r-squared is: {rvalue**2}\")\n",
    "print ('There is a negative correlation between Northern Hemisphere Latitudes and      Temperature.')\n",
    "plt.savefig('NLatTemp.png')"
   ]
  },
  {
   "cell_type": "markdown",
   "metadata": {},
   "source": [
    "####  Southern Hemisphere - Max Temp vs. Latitude Linear Regression"
   ]
  },
  {
   "cell_type": "code",
   "execution_count": 23,
   "metadata": {},
   "outputs": [
    {
     "data": {
      "image/png": "[encoded data removed]",
      "text/plain": [
       "<Figure size 432x288 with 1 Axes>"
      ]
     },
     "metadata": {
      "needs_background": "light"
     },
     "output_type": "display_data"
    },
    {
     "name": "stdout",
     "output_type": "stream",
     "text": [
      "The r-squared is: 0.15642892652931867\n",
      "There is a slightly positive correlation between Southern Hemisphere Latitudes and Temperature.\n"
     ]
    },
    {
     "data": {
      "text/plain": [
       "<Figure size 432x288 with 0 Axes>"
      ]
     },
     "metadata": {},
     "output_type": "display_data"
    }
   ],
   "source": [
    "x_lat = southern_df['Latitude']\n",
    "y_temp = southern_df['Temperature']\n",
    "plt.scatter(x_lat,y_temp)\n",
    "(slope, intercept, rvalue, pvalue, stderr) = linregress(x_lat, y_temp)\n",
    "regress_values = x_lat * slope + intercept\n",
    "line_eq = \"y = \" + str(round(slope,2)) + \"x + \" + str(round(intercept,2))\n",
    "plt.plot(x_lat,regress_values,\"r-\")\n",
    "plt.annotate(line_eq,(-40,60),fontsize=15,color=\"red\")\n",
    "plt.title('Southern Hemisphere Latitude vs Temperature Plot')\n",
    "plt.xlabel('Latitude')\n",
    "plt.ylabel('Temperature (F)')\n",
    "plt.show()\n",
    "print(f\"The r-squared is: {rvalue**2}\")\n",
    "print ('There is a slightly positive correlation between Southern Hemisphere Latitudes and Temperature.')\n",
    "plt.savefig('SlatTemp.png')"
   ]
  },
  {
   "cell_type": "markdown",
   "metadata": {},
   "source": [
    "####  Northern Hemisphere - Humidity (%) vs. Latitude Linear Regression"
   ]
  },
  {
   "cell_type": "code",
   "execution_count": 13,
   "metadata": {},
   "outputs": [
    {
     "data": {
      "image/png": "[encoded data removed]",
      "text/plain": [
       "<Figure size 432x288 with 1 Axes>"
      ]
     },
     "metadata": {
      "needs_background": "light"
     },
     "output_type": "display_data"
    },
    {
     "name": "stdout",
     "output_type": "stream",
     "text": [
      "The r-squared is: 0.12396600436007649\n",
      "There is a very slight correlation between Northern Hemisphere Latitudes and   Humidity. The points are scattered all over the place and the line does not    seem to fit the data very well.\n"
     ]
    },
    {
     "data": {
      "text/plain": [
       "<Figure size 432x288 with 0 Axes>"
      ]
     },
     "metadata": {},
     "output_type": "display_data"
    }
   ],
   "source": [
    "x_lat = northern_df['Latitude']\n",
    "y_hum = northern_df['Humidity']\n",
    "plt.scatter(x_lat,y_hum)\n",
    "(slope, intercept, rvalue, pvalue, stderr) = linregress(x_lat, y_hum)\n",
    "regress_values = x_lat * slope + intercept\n",
    "line_eq = \"y = \" + str(round(slope,2)) + \"x + \" + str(round(intercept,2))\n",
    "plt.plot(x_lat,regress_values,\"r-\")\n",
    "plt.annotate(line_eq,(6,10),fontsize=15,color=\"red\")\n",
    "plt.title('Northern Hemisphere Latitude vs Humidity Plot')\n",
    "plt.xlabel('Latitude')\n",
    "plt.ylabel('Humidity (%)')\n",
    "plt.show()\n",
    "print(f\"The r-squared is: {rvalue**2}\")\n",
    "print ('There is a very slight correlation between Northern Hemisphere Latitudes and   Humidity. The points are scattered all over the place and the line does not    seem to fit the data very well.')\n",
    "plt.savefig('NlatHum.png')"
   ]
  },
  {
   "cell_type": "markdown",
   "metadata": {},
   "source": [
    "####  Southern Hemisphere - Humidity (%) vs. Latitude Linear Regression"
   ]
  },
  {
   "cell_type": "code",
   "execution_count": 14,
   "metadata": {},
   "outputs": [
    {
     "data": {
      "image/png": "[encoded data removed]",
      "text/plain": [
       "<Figure size 432x288 with 1 Axes>"
      ]
     },
     "metadata": {
      "needs_background": "light"
     },
     "output_type": "display_data"
    },
    {
     "name": "stdout",
     "output_type": "stream",
     "text": [
      "The r-squared is: 0.08260608721332166\n",
      "There is a very slight correlation between Southern Hemisphere Latitudes and   Humidity. The points are scattered all over the place and the line does not    seem to fit the data very well.\n"
     ]
    },
    {
     "data": {
      "text/plain": [
       "<Figure size 432x288 with 0 Axes>"
      ]
     },
     "metadata": {},
     "output_type": "display_data"
    }
   ],
   "source": [
    "x_lat = southern_df['Latitude']\n",
    "y_hum = southern_df['Humidity']\n",
    "plt.scatter(x_lat,y_hum)\n",
    "(slope, intercept, rvalue, pvalue, stderr) = linregress(x_lat, y_hum)\n",
    "regress_values = x_lat * slope + intercept\n",
    "line_eq = \"y = \" + str(round(slope,2)) + \"x + \" + str(round(intercept,2))\n",
    "plt.plot(x_lat,regress_values,\"r-\")\n",
    "plt.annotate(line_eq,(-30,50),fontsize=15,color=\"red\")\n",
    "plt.title('Southern Hemisphere Latitude vs Humidity Plot')\n",
    "plt.xlabel('Latitude')\n",
    "plt.ylabel('Humidity (%)')\n",
    "plt.show()\n",
    "print(f\"The r-squared is: {rvalue**2}\")\n",
    "print ('There is a very slight correlation between Southern Hemisphere Latitudes and   Humidity. The points are scattered all over the place and the line does not    seem to fit the data very well.')\n",
    "plt.savefig('SlatHum.png')"
   ]
  },
  {
   "cell_type": "markdown",
   "metadata": {},
   "source": [
    "####  Northern Hemisphere - Cloudiness (%) vs. Latitude Linear Regression"
   ]
  },
  {
   "cell_type": "code",
   "execution_count": 15,
   "metadata": {},
   "outputs": [
    {
     "data": {
      "image/png": "[encoded data removed]",
      "text/plain": [
       "<Figure size 432x288 with 1 Axes>"
      ]
     },
     "metadata": {
      "needs_background": "light"
     },
     "output_type": "display_data"
    },
    {
     "name": "stdout",
     "output_type": "stream",
     "text": [
      "The r-squared is: 0.0011927016639439278\n",
      "There is a very slight correlation between Northern Hemisphere Latitudes and   Cloudiness. The points are scattered all over the place and the line does not    seem to fit the data very well.\n"
     ]
    },
    {
     "data": {
      "text/plain": [
       "<Figure size 432x288 with 0 Axes>"
      ]
     },
     "metadata": {},
     "output_type": "display_data"
    }
   ],
   "source": [
    "x_lat = northern_df['Latitude']\n",
    "y_cloud = northern_df['Cloudiness']\n",
    "plt.scatter(x_lat,y_cloud)\n",
    "(slope, intercept, rvalue, pvalue, stderr) = linregress(x_lat, y_cloud)\n",
    "regress_values = x_lat * slope + intercept\n",
    "line_eq = \"y = \" + str(round(slope,2)) + \"x + \" + str(round(intercept,2))\n",
    "plt.plot(x_lat,regress_values,\"r-\")\n",
    "plt.annotate(line_eq,(6,10),fontsize=15,color=\"red\")\n",
    "plt.title('Northern Hemisphere Latitude vs Cloudiness Plot')\n",
    "plt.xlabel('Latitude')\n",
    "plt.ylabel('Cloudiness (%)')\n",
    "plt.show()\n",
    "print(f\"The r-squared is: {rvalue**2}\")\n",
    "print ('There is a very slight correlation between Northern Hemisphere Latitudes and   Cloudiness. The points are scattered all over the place and the line does not    seem to fit the data very well.')\n",
    "plt.savefig('NlatCloud.png')"
   ]
  },
  {
   "cell_type": "markdown",
   "metadata": {},
   "source": [
    "####  Southern Hemisphere - Cloudiness (%) vs. Latitude Linear Regression"
   ]
  },
  {
   "cell_type": "code",
   "execution_count": 16,
   "metadata": {},
   "outputs": [
    {
     "data": {
      "image/png": "[encoded data removed]",
      "text/plain": [
       "<Figure size 432x288 with 1 Axes>"
      ]
     },
     "metadata": {
      "needs_background": "light"
     },
     "output_type": "display_data"
    },
    {
     "name": "stdout",
     "output_type": "stream",
     "text": [
      "The r-squared is: 0.07654798327438138\n",
      "There is a very slight correlation between Northern Hemisphere Latitudes and   Cloudiness. The points are scattered all over the place and the line does not    seem to fit the data very well, but it does seem to have more correlation than the Northern Hemisphere.\n"
     ]
    },
    {
     "data": {
      "text/plain": [
       "<Figure size 432x288 with 0 Axes>"
      ]
     },
     "metadata": {},
     "output_type": "display_data"
    }
   ],
   "source": [
    "x_lat = southern_df['Latitude']\n",
    "y_cloud = southern_df['Cloudiness']\n",
    "plt.scatter(x_lat,y_cloud)\n",
    "(slope, intercept, rvalue, pvalue, stderr) = linregress(x_lat, y_cloud)\n",
    "regress_values = x_lat * slope + intercept\n",
    "line_eq = \"y = \" + str(round(slope,2)) + \"x + \" + str(round(intercept,2))\n",
    "plt.plot(x_lat,regress_values,\"r-\")\n",
    "plt.annotate(line_eq,(6,10),fontsize=15,color=\"red\")\n",
    "plt.title('Southern Hemisphere Latitude vs Cloudiness Plot')\n",
    "plt.xlabel('Latitude')\n",
    "plt.ylabel('Cloudiness (%)')\n",
    "plt.show()\n",
    "print(f\"The r-squared is: {rvalue**2}\")\n",
    "print ('There is a very slight correlation between Northern Hemisphere Latitudes and   Cloudiness. The points are scattered all over the place and the line does not    seem to fit the data very well, but it does seem to have more correlation than the Northern Hemisphere.')\n",
    "plt.savefig('SlatCloud.png')"
   ]
  },
  {
   "cell_type": "markdown",
   "metadata": {},
   "source": [
    "####  Northern Hemisphere - Wind Speed (mph) vs. Latitude Linear Regression"
   ]
  },
  {
   "cell_type": "code",
   "execution_count": 17,
   "metadata": {},
   "outputs": [
    {
     "data": {
      "image/png": "[encoded data removed]",
      "text/plain": [
       "<Figure size 432x288 with 1 Axes>"
      ]
     },
     "metadata": {
      "needs_background": "light"
     },
     "output_type": "display_data"
    },
    {
     "name": "stdout",
     "output_type": "stream",
     "text": [
      "The r-squared is: 0.012429728812045819\n",
      "There is a negative correlation between Northern Hemisphere Latitudes and Wind Speed. The points are scattered all over the place and the line does not seem  to fit the data very well and the regression line is extremely flat.\n"
     ]
    },
    {
     "data": {
      "text/plain": [
       "<Figure size 432x288 with 0 Axes>"
      ]
     },
     "metadata": {},
     "output_type": "display_data"
    }
   ],
   "source": [
    "x_lat = northern_df['Latitude']\n",
    "y_wind = northern_df['Wind Speed (mph)']\n",
    "plt.scatter(x_lat,y_wind)\n",
    "(slope, intercept, rvalue, pvalue, stderr) = linregress(x_lat, y_wind)\n",
    "regress_values = x_lat * slope + intercept\n",
    "line_eq = \"y = \" + str(round(slope,2)) + \"x + \" + str(round(intercept,2))\n",
    "plt.plot(x_lat,regress_values,\"r-\")\n",
    "plt.annotate(line_eq,(6,10),fontsize=15,color=\"red\")\n",
    "plt.title('Northern Hemisphere Latitude vs Wind Speed Plot')\n",
    "plt.xlabel('Latitude')\n",
    "plt.ylabel('Wind Speed (mph)')\n",
    "plt.show()\n",
    "print(f\"The r-squared is: {rvalue**2}\")\n",
    "print ('There is a negative correlation between Northern Hemisphere Latitudes and Wind Speed. The points are scattered all over the place and the line does not seem  to fit the data very well and the regression line is extremely flat.')\n",
    "plt.savefig('NlatWind.png')"
   ]
  },
  {
   "cell_type": "markdown",
   "metadata": {},
   "source": [
    "####  Southern Hemisphere - Wind Speed (mph) vs. Latitude Linear Regression"
   ]
  },
  {
   "cell_type": "code",
   "execution_count": 19,
   "metadata": {},
   "outputs": [
    {
     "data": {
      "image/png": "[encoded data removed]",
      "text/plain": [
       "<Figure size 432x288 with 1 Axes>"
      ]
     },
     "metadata": {
      "needs_background": "light"
     },
     "output_type": "display_data"
    },
    {
     "name": "stdout",
     "output_type": "stream",
     "text": [
      "The r-squared is: 0.103883705474858\n",
      "There is a negative correlation between Southern Hemisphere Latitudes and Wind Speed. The points are scattered all over the place and the line does not seem  to fit the data very well and the regression line is extremely flat.\n"
     ]
    },
    {
     "data": {
      "text/plain": [
       "<Figure size 432x288 with 0 Axes>"
      ]
     },
     "metadata": {},
     "output_type": "display_data"
    }
   ],
   "source": [
    "x_lat = southern_df['Latitude']\n",
    "y_wind = southern_df['Wind Speed (mph)']\n",
    "plt.scatter(x_lat,y_wind)\n",
    "(slope, intercept, rvalue, pvalue, stderr) = linregress(x_lat, y_wind)\n",
    "regress_values = x_lat * slope + intercept\n",
    "line_eq = \"y = \" + str(round(slope,2)) + \"x + \" + str(round(intercept,2))\n",
    "plt.plot(x_lat,regress_values,\"r-\")\n",
    "plt.annotate(line_eq,(-30,10),fontsize=15,color=\"red\")\n",
    "plt.title('Southern Hemisphere Latitude vs Wind Speed Plot')\n",
    "plt.xlabel('Latitude')\n",
    "plt.ylabel('Wind Speed (mph)')\n",
    "plt.show()\n",
    "print(f\"The r-squared is: {rvalue**2}\")\n",
    "print ('There is a negative correlation between Southern Hemisphere Latitudes and Wind Speed. The points are scattered all over the place and the line does not seem  to fit the data very well and the regression line is extremely flat.')\n",
    "plt.savefig('SlatWind.png')"
   ]
  },
  {
   "cell_type": "code",
   "execution_count": null,
   "metadata": {},
   "outputs": [],
   "source": []
  },
  {
   "cell_type": "code",
   "execution_count": null,
   "metadata": {},
   "outputs": [],
   "source": []
  }
 ],
 "metadata": {
  "anaconda-cloud": {},
  "kernel_info": {
   "name": "python3"
  },
  "kernelspec": {
   "display_name": "Python 3",
   "language": "python",
   "name": "python3"
  },
  "language_info": {
   "codemirror_mode": {
    "name": "ipython",
    "version": 3
   },
   "file_extension": ".py",
   "mimetype": "text/x-python",
   "name": "python",
   "nbconvert_exporter": "python",
   "pygments_lexer": "ipython3",
   "version": "3.8.5"
  },
  "latex_envs": {
   "LaTeX_envs_menu_present": true,
   "autoclose": false,
   "autocomplete": true,
   "bibliofile": "biblio.bib",
   "cite_by": "apalike",
   "current_citInitial": 1,
   "eqLabelWithNumbers": true,
   "eqNumInitial": 1,
   "hotkeys": {
    "equation": "Ctrl-E",
    "itemize": "Ctrl-I"
   },
   "labels_anchors": false,
   "latex_user_defs": false,
   "report_style_numbering": false,
   "user_envs_cfg": false
  },
  "nteract": {
   "version": "0.12.3"
  }
 },
 "nbformat": 4,
 "nbformat_minor": 2
}
